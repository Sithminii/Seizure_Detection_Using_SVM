{
 "cells": [
  {
   "cell_type": "code",
   "execution_count": null,
   "metadata": {
    "_cell_guid": "b1076dfc-b9ad-4769-8c92-a6c4dae69d19",
    "_uuid": "8f2839f25d086af736a60e9eeb907d3b93b6e0e5",
    "execution": {
     "iopub.execute_input": "2024-10-28T07:59:52.745363Z",
     "iopub.status.busy": "2024-10-28T07:59:52.744930Z",
     "iopub.status.idle": "2024-10-28T07:59:54.271852Z",
     "shell.execute_reply": "2024-10-28T07:59:54.270674Z",
     "shell.execute_reply.started": "2024-10-28T07:59:52.745313Z"
    },
    "trusted": true
   },
   "outputs": [],
   "source": [
    "import os\n",
    "import numpy as np\n",
    "import sklearn\n",
    "from sklearn.metrics import classification_report, confusion_matrix, accuracy_score, recall_score, make_scorer\n",
    "from sklearn import svm\n",
    "from sklearn.model_selection import cross_val_score, train_test_split, StratifiedKFold, cross_validate\n",
    "from sklearn.preprocessing import RobustScaler"
   ]
  },
  {
   "cell_type": "code",
   "execution_count": 2,
   "metadata": {
    "execution": {
     "iopub.execute_input": "2024-10-28T07:59:54.274691Z",
     "iopub.status.busy": "2024-10-28T07:59:54.274056Z",
     "iopub.status.idle": "2024-10-28T07:59:54.281342Z",
     "shell.execute_reply": "2024-10-28T07:59:54.279898Z",
     "shell.execute_reply.started": "2024-10-28T07:59:54.274637Z"
    },
    "trusted": true
   },
   "outputs": [],
   "source": [
    "def specificity(y_true, y_pred):\n",
    "    tn, fp, fn, tp = confusion_matrix(y_true,y_pred).ravel()\n",
    "    return tn/(tn+fp)"
   ]
  },
  {
   "cell_type": "code",
   "execution_count": 3,
   "metadata": {
    "execution": {
     "iopub.execute_input": "2024-10-28T07:59:54.283704Z",
     "iopub.status.busy": "2024-10-28T07:59:54.283201Z",
     "iopub.status.idle": "2024-10-28T07:59:54.327319Z",
     "shell.execute_reply": "2024-10-28T07:59:54.326220Z",
     "shell.execute_reply.started": "2024-10-28T07:59:54.283632Z"
    },
    "trusted": true
   },
   "outputs": [],
   "source": [
    "# Read data\n",
    "int_ict_data = np.load('/kaggle/input/train-test-data-bsp-project/int_ict_feats.npy')\n",
    "int_ict_data = int_ict_data.reshape(int_ict_data.shape[0],10)\n",
    "int_ict_labels = np.load('/kaggle/input/train-test-data-bsp-project/int_ict_label.npy')\n",
    "\n",
    "norm_ict_data = np.load('/kaggle/input/train-test-data-bsp-project/norm_ict_feats.npy')\n",
    "norm_ict_data = norm_ict_data.reshape(norm_ict_data.shape[0],10)\n",
    "norm_ict_labels = np.load('/kaggle/input/train-test-data-bsp-project/norm_ict_label.npy')"
   ]
  },
  {
   "cell_type": "code",
   "execution_count": null,
   "metadata": {
    "execution": {
     "iopub.execute_input": "2024-10-28T09:36:03.741015Z",
     "iopub.status.busy": "2024-10-28T09:36:03.740571Z",
     "iopub.status.idle": "2024-10-28T09:36:03.810503Z",
     "shell.execute_reply": "2024-10-28T09:36:03.809330Z",
     "shell.execute_reply.started": "2024-10-28T09:36:03.740963Z"
    },
    "trusted": true
   },
   "outputs": [
    {
     "name": "stdout",
     "output_type": "stream",
     "text": [
      "accuracy = 0.8938\n",
      "\n",
      "\n",
      "confusion matrix:\n",
      " [[78  2]\n",
      " [15 65]]\n",
      "\n",
      "              precision    recall  f1-score   support\n",
      "\n",
      "           0       0.84      0.97      0.90        80\n",
      "           1       0.97      0.81      0.88        80\n",
      "\n",
      "    accuracy                           0.89       160\n",
      "   macro avg       0.90      0.89      0.89       160\n",
      "weighted avg       0.90      0.89      0.89       160\n",
      "\n",
      "cross validation fold sensitivities:  [0.95   0.975  0.9625 0.9125]\n",
      "cross validation fold specificities:  [0.95   0.9875 0.9875 0.925 ]\n",
      "average sensitivity:  0.95\n",
      "average specificity:  0.9624999999999999\n"
     ]
    }
   ],
   "source": [
    "intict_train_data, intict_test_data, intict_train_labels, intict_test_labels = train_test_split(int_ict_data, int_ict_labels, test_size = 0.2, random_state=42)\n",
    "\n",
    "classifier = svm.SVC(C=100, kernel='rbf', gamma=0.032)\n",
    "classifier.fit(intict_train_data, np.ravel(intict_train_labels))\n",
    "\n",
    "intict_test_preds = classifier.predict(intict_test_data)\n",
    "accuracy = accuracy_score(intict_test_labels, intict_test_preds)\n",
    "print(f'accuracy = {accuracy:.4f}\\n')\n",
    "\n",
    "confusion_mat = confusion_matrix(intict_test_labels, intict_test_preds)\n",
    "print(f'\\nconfusion matrix:\\n {confusion_mat}\\n')\n",
    "\n",
    "print(classification_report(intict_test_labels, intict_test_preds))\n",
    "\n",
    "\n",
    "scaler = RobustScaler()\n",
    "intict_train_feats_scaled = scaler.fit_transform(intict_train_data)\n",
    "\n",
    "\n",
    "sensitivity_scorer = make_scorer(recall_score, pos_label=1)\n",
    "specificity_scorer = make_scorer(specificity)\n",
    "\n",
    "scoring = {'sensitivity': sensitivity_scorer, 'specificity':specificity_scorer}\n",
    "\n",
    "cv_results = cross_validate(classifier, intict_train_feats_scaled, np.ravel(intict_train_labels), cv=StratifiedKFold(4), scoring=scoring)\n",
    "\n",
    "\n",
    "print('cross validation fold sensitivities: ',cv_results['test_sensitivity'])\n",
    "print('cross validation fold specificities: ',cv_results['test_specificity'])\n",
    "\n",
    "print('average sensitivity: ',np.mean(cv_results['test_sensitivity']))\n",
    "print('average specificity: ',np.mean(cv_results['test_specificity']))\n"
   ]
  }
 ],
 "metadata": {
  "kaggle": {
   "accelerator": "none",
   "dataSources": [
    {
     "datasetId": 5941200,
     "sourceId": 9712592,
     "sourceType": "datasetVersion"
    }
   ],
   "dockerImageVersionId": 30786,
   "isGpuEnabled": false,
   "isInternetEnabled": true,
   "language": "python",
   "sourceType": "notebook"
  },
  "kernelspec": {
   "display_name": "Python 3",
   "language": "python",
   "name": "python3"
  },
  "language_info": {
   "codemirror_mode": {
    "name": "ipython",
    "version": 3
   },
   "file_extension": ".py",
   "mimetype": "text/x-python",
   "name": "python",
   "nbconvert_exporter": "python",
   "pygments_lexer": "ipython3",
   "version": "3.10.14"
  }
 },
 "nbformat": 4,
 "nbformat_minor": 4
}
